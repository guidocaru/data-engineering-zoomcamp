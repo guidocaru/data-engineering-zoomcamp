{
 "cells": [
  {
   "cell_type": "code",
   "execution_count": 45,
   "id": "be629fce-ec64-46d8-a957-26972f32cc2e",
   "metadata": {},
   "outputs": [],
   "source": [
    "import pyspark\n",
    "from pyspark.sql import SparkSession\n",
    "from pyspark.sql.functions import lit, unix_timestamp, col\n",
    "from pyspark.sql.types import StructType, StructField, StringType, IntegerType\n",
    "\n",
    "spark = SparkSession.builder \\\n",
    "    .master(\"local[*]\") \\\n",
    "    .appName(\"test\") \\\n",
    "    .getOrCreate()"
   ]
  },
  {
   "cell_type": "markdown",
   "id": "75e60c8e-db49-420d-bb3a-7d3a864d7bf3",
   "metadata": {},
   "source": [
    "#### Question 1: Spark version"
   ]
  },
  {
   "cell_type": "code",
   "execution_count": 46,
   "id": "55dc9200-1715-4e73-9418-2bd4a7f91fc8",
   "metadata": {},
   "outputs": [
    {
     "data": {
      "text/plain": [
       "'3.5.4'"
      ]
     },
     "execution_count": 46,
     "metadata": {},
     "output_type": "execute_result"
    }
   ],
   "source": [
    "spark.version"
   ]
  },
  {
   "cell_type": "markdown",
   "id": "93bd0cb4-98a6-4ada-95d6-4983e0cee9b6",
   "metadata": {},
   "source": [
    "#### Question 2: repartition"
   ]
  },
  {
   "cell_type": "code",
   "execution_count": 48,
   "id": "063e1ac1-d6a8-45d5-848d-643695394640",
   "metadata": {},
   "outputs": [
    {
     "name": "stderr",
     "output_type": "stream",
     "text": [
      "                                                                                "
     ]
    }
   ],
   "source": [
    "df_yellow = spark.read.parquet(\"data/raw/yellow_tripdata_2024-10.parquet\")\n",
    "df_yellow = df_yellow.repartition(4)\n",
    "df_yellow.write.parquet(\"yellow_trips/2024/10/\", mode=\"overwrite\")"
   ]
  },
  {
   "cell_type": "markdown",
   "id": "7bbccfd9-3a98-429a-9506-f88199c66351",
   "metadata": {},
   "source": [
    "#### Question 3: 15th october trips"
   ]
  },
  {
   "cell_type": "code",
   "execution_count": 49,
   "id": "a2a1f49e-a3a2-4c5e-bb15-5603fc03e7a5",
   "metadata": {},
   "outputs": [
    {
     "data": {
      "text/plain": [
       "128895"
      ]
     },
     "execution_count": 49,
     "metadata": {},
     "output_type": "execute_result"
    }
   ],
   "source": [
    "df_filtered = df_yellow.filter(col(\"tpep_pickup_datetime\").between(\"2024-10-15\", \"2024-10-16\"))\n",
    "df_filtered.count()"
   ]
  },
  {
   "cell_type": "markdown",
   "id": "83511810-bc47-4193-8fc1-2ade8b392673",
   "metadata": {},
   "source": [
    "#### Question 4: longest trip"
   ]
  },
  {
   "cell_type": "code",
   "execution_count": 51,
   "id": "5301f1f0-0565-4179-a2c9-d06af3f2199b",
   "metadata": {},
   "outputs": [
    {
     "name": "stderr",
     "output_type": "stream",
     "text": [
      "[Stage 73:=============================================>          (13 + 3) / 16]"
     ]
    },
    {
     "name": "stdout",
     "output_type": "stream",
     "text": [
      "+------------------+\n",
      "|          duration|\n",
      "+------------------+\n",
      "|162.61777777777777|\n",
      "+------------------+\n",
      "\n"
     ]
    },
    {
     "name": "stderr",
     "output_type": "stream",
     "text": [
      "                                                                                "
     ]
    }
   ],
   "source": [
    "df_yellow_duration = df_yellow.withColumn(\"duration\", \n",
    "                   (unix_timestamp(col(\"tpep_dropoff_datetime\")) - unix_timestamp(col(\"tpep_pickup_datetime\"))) / 3600)\n",
    "\n",
    "df_yellow_duration.orderBy(col(\"duration\").desc()).limit(1).select(col(\"duration\")).show()\n"
   ]
  },
  {
   "cell_type": "markdown",
   "id": "210351db-f28a-416e-b84d-d58917ccc388",
   "metadata": {},
   "source": [
    "#### Question 6: Least frequent pickup zone"
   ]
  },
  {
   "cell_type": "code",
   "execution_count": 53,
   "id": "37178bd4-1038-4f2a-a955-d4e4d643d82a",
   "metadata": {},
   "outputs": [],
   "source": [
    "schema = StructType([\n",
    "    StructField(\"LocationID\", IntegerType()),\n",
    "    StructField(\"Borough\", StringType()),\n",
    "    StructField(\"Zone\", StringType()),\n",
    "    StructField(\"service_zone\", StringType()),\n",
    "])\n",
    "\n",
    "df_zones = spark.read.csv(\"data/raw/taxi_zone_lookup.csv\", header=True, schema=schema)"
   ]
  },
  {
   "cell_type": "code",
   "execution_count": 54,
   "id": "70492ba0-5f65-4915-9245-8205553be74f",
   "metadata": {},
   "outputs": [
    {
     "name": "stdout",
     "output_type": "stream",
     "text": [
      "+--------------------+-----+\n",
      "|                Zone|trips|\n",
      "+--------------------+-----+\n",
      "|Governor's Island...|    1|\n",
      "|       Rikers Island|    2|\n",
      "|       Arden Heights|    2|\n",
      "|         Jamaica Bay|    3|\n",
      "| Green-Wood Cemetery|    3|\n",
      "|Charleston/Totten...|    4|\n",
      "|   Rossville/Woodrow|    4|\n",
      "|       Port Richmond|    4|\n",
      "|Eltingville/Annad...|    4|\n",
      "|       West Brighton|    4|\n",
      "|         Great Kills|    6|\n",
      "|        Crotona Park|    6|\n",
      "|Heartland Village...|    7|\n",
      "|     Mariners Harbor|    7|\n",
      "|Saint George/New ...|    9|\n",
      "|             Oakwood|    9|\n",
      "|       Broad Channel|   10|\n",
      "|New Dorp/Midland ...|   10|\n",
      "|         Westerleigh|   12|\n",
      "|     Pelham Bay Park|   12|\n",
      "+--------------------+-----+\n",
      "only showing top 20 rows\n",
      "\n"
     ]
    }
   ],
   "source": [
    "df_zones.createOrReplaceTempView(\"zones\")\n",
    "df_yellow.createOrReplaceTempView(\"yellow_trips\")\n",
    "\n",
    "spark.sql(\"\"\"\n",
    "SELECT \n",
    "    zones.Zone,\n",
    "    count(1) as trips\n",
    "FROM yellow_trips\n",
    "INNER JOIN zones ON zones.LocationID = yellow_trips.PULocationID\n",
    "GROUP BY\n",
    "    zones.Zone\n",
    "ORDER BY\n",
    "    trips ASC\n",
    "\"\"\").show()"
   ]
  }
 ],
 "metadata": {
  "kernelspec": {
   "display_name": "homework-5-mnbgQSBp",
   "language": "python",
   "name": "homework-5-mnbgqsbp"
  },
  "language_info": {
   "codemirror_mode": {
    "name": "ipython",
    "version": 3
   },
   "file_extension": ".py",
   "mimetype": "text/x-python",
   "name": "python",
   "nbconvert_exporter": "python",
   "pygments_lexer": "ipython3",
   "version": "3.11.10"
  }
 },
 "nbformat": 4,
 "nbformat_minor": 5
}
